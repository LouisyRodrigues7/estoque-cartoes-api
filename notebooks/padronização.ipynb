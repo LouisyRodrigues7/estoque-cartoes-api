{
 "cells": [
  {
   "cell_type": "code",
   "execution_count": 1,
   "metadata": {},
   "outputs": [],
   "source": [
    "import pandas as pd\n",
    "import glob\n",
    "import os\n"
   ]
  },
  {
   "cell_type": "markdown",
   "metadata": {},
   "source": [
    "#### Setando arquivos, lendo e concatenando todos em um único DataFrame"
   ]
  },
  {
   "cell_type": "code",
   "execution_count": 2,
   "metadata": {},
   "outputs": [
    {
     "name": "stdout",
     "output_type": "stream",
     "text": [
      "Arquivos carregados: 10\n"
     ]
    },
    {
     "data": {
      "text/html": [
       "<div>\n",
       "<style scoped>\n",
       "    .dataframe tbody tr th:only-of-type {\n",
       "        vertical-align: middle;\n",
       "    }\n",
       "\n",
       "    .dataframe tbody tr th {\n",
       "        vertical-align: top;\n",
       "    }\n",
       "\n",
       "    .dataframe thead th {\n",
       "        text-align: right;\n",
       "    }\n",
       "</style>\n",
       "<table border=\"1\" class=\"dataframe\">\n",
       "  <thead>\n",
       "    <tr style=\"text-align: right;\">\n",
       "      <th></th>\n",
       "      <th>trimestre</th>\n",
       "      <th>nomeBandeira</th>\n",
       "      <th>nomeFuncao</th>\n",
       "      <th>modalidade</th>\n",
       "      <th>qtdCartoesEmitidos</th>\n",
       "      <th>qtdCartoesAtivos</th>\n",
       "    </tr>\n",
       "  </thead>\n",
       "  <tbody>\n",
       "    <tr>\n",
       "      <th>0</th>\n",
       "      <td>20231.0</td>\n",
       "      <td>VISA</td>\n",
       "      <td>Débito</td>\n",
       "      <td>Puro</td>\n",
       "      <td>739765</td>\n",
       "      <td>404801</td>\n",
       "    </tr>\n",
       "    <tr>\n",
       "      <th>1</th>\n",
       "      <td>20251.0</td>\n",
       "      <td>American Express</td>\n",
       "      <td>Crédito</td>\n",
       "      <td>Puro</td>\n",
       "      <td>302476</td>\n",
       "      <td>228566</td>\n",
       "    </tr>\n",
       "    <tr>\n",
       "      <th>2</th>\n",
       "      <td>20232.0</td>\n",
       "      <td>MasterCard</td>\n",
       "      <td>Crédito</td>\n",
       "      <td>Híbrido</td>\n",
       "      <td>4131</td>\n",
       "      <td>3397</td>\n",
       "    </tr>\n",
       "    <tr>\n",
       "      <th>3</th>\n",
       "      <td>20242.0</td>\n",
       "      <td>Elo</td>\n",
       "      <td>Crédito</td>\n",
       "      <td>Puro</td>\n",
       "      <td>3137258</td>\n",
       "      <td>1933287</td>\n",
       "    </tr>\n",
       "    <tr>\n",
       "      <th>4</th>\n",
       "      <td>20242.0</td>\n",
       "      <td>Elo</td>\n",
       "      <td>Crédito</td>\n",
       "      <td>Puro</td>\n",
       "      <td>28306</td>\n",
       "      <td>11255</td>\n",
       "    </tr>\n",
       "  </tbody>\n",
       "</table>\n",
       "</div>"
      ],
      "text/plain": [
       "   trimestre      nomeBandeira nomeFuncao modalidade  qtdCartoesEmitidos  \\\n",
       "0    20231.0              VISA     Débito       Puro              739765   \n",
       "1    20251.0  American Express    Crédito       Puro              302476   \n",
       "2    20232.0        MasterCard    Crédito    Híbrido                4131   \n",
       "3    20242.0               Elo    Crédito       Puro             3137258   \n",
       "4    20242.0               Elo    Crédito       Puro               28306   \n",
       "\n",
       "   qtdCartoesAtivos  \n",
       "0            404801  \n",
       "1            228566  \n",
       "2              3397  \n",
       "3           1933287  \n",
       "4             11255  "
      ]
     },
     "execution_count": 2,
     "metadata": {},
     "output_type": "execute_result"
    }
   ],
   "source": [
    "arquivos_csv = glob.glob(\"../data/transacoes_cartoes_*.csv\")\n",
    "\n",
    "df_lista = [pd.read_csv(arquivo) for arquivo in arquivos_csv]\n",
    "dados_df = pd.concat(df_lista, ignore_index=True)\n",
    "\n",
    "print(f\"Arquivos carregados: {len(arquivos_csv)}\")\n",
    "dados_df.head()\n"
   ]
  },
  {
   "cell_type": "markdown",
   "metadata": {},
   "source": [
    "#### Verificando valores nulos e vendo tipo de dados"
   ]
  },
  {
   "cell_type": "code",
   "execution_count": 3,
   "metadata": {},
   "outputs": [
    {
     "name": "stdout",
     "output_type": "stream",
     "text": [
      "🔎 Valores nulos por coluna:\n",
      "trimestre             100\n",
      "nomeBandeira            0\n",
      "nomeFuncao              0\n",
      "modalidade              0\n",
      "qtdCartoesEmitidos      0\n",
      "qtdCartoesAtivos        0\n",
      "dtype: int64\n",
      "\n",
      "🔎 Tipos de dados:\n",
      "trimestre             float64\n",
      "nomeBandeira           object\n",
      "nomeFuncao             object\n",
      "modalidade             object\n",
      "qtdCartoesEmitidos      int64\n",
      "qtdCartoesAtivos        int64\n",
      "dtype: object\n"
     ]
    }
   ],
   "source": [
    "\n",
    "print(\"🔎 Valores nulos por coluna:\")\n",
    "print(dados_df.isnull().sum())\n",
    "\n",
    "\n",
    "print(\"\\n🔎 Tipos de dados:\")\n",
    "print(dados_df.dtypes)\n"
   ]
  },
  {
   "cell_type": "markdown",
   "metadata": {},
   "source": [
    "#### Renomeando Colunas e salvando nova versão como um novo csv"
   ]
  },
  {
   "cell_type": "code",
   "execution_count": 34,
   "metadata": {},
   "outputs": [
    {
     "data": {
      "text/html": [
       "<div>\n",
       "<style scoped>\n",
       "    .dataframe tbody tr th:only-of-type {\n",
       "        vertical-align: middle;\n",
       "    }\n",
       "\n",
       "    .dataframe tbody tr th {\n",
       "        vertical-align: top;\n",
       "    }\n",
       "\n",
       "    .dataframe thead th {\n",
       "        text-align: right;\n",
       "    }\n",
       "</style>\n",
       "<table border=\"1\" class=\"dataframe\">\n",
       "  <thead>\n",
       "    <tr style=\"text-align: right;\">\n",
       "      <th></th>\n",
       "      <th>Bandeira</th>\n",
       "      <th>Funcao</th>\n",
       "      <th>Modalidade</th>\n",
       "      <th>qtd_emitidos</th>\n",
       "      <th>qtd_ativos</th>\n",
       "    </tr>\n",
       "  </thead>\n",
       "  <tbody>\n",
       "    <tr>\n",
       "      <th>0</th>\n",
       "      <td>VISA</td>\n",
       "      <td>Débito</td>\n",
       "      <td>Puro</td>\n",
       "      <td>739765</td>\n",
       "      <td>404801</td>\n",
       "    </tr>\n",
       "    <tr>\n",
       "      <th>1</th>\n",
       "      <td>MasterCard</td>\n",
       "      <td>Crédito</td>\n",
       "      <td>Puro</td>\n",
       "      <td>983369</td>\n",
       "      <td>771386</td>\n",
       "    </tr>\n",
       "    <tr>\n",
       "      <th>2</th>\n",
       "      <td>MasterCard</td>\n",
       "      <td>Crédito</td>\n",
       "      <td>Puro</td>\n",
       "      <td>13454781</td>\n",
       "      <td>5296965</td>\n",
       "    </tr>\n",
       "    <tr>\n",
       "      <th>3</th>\n",
       "      <td>VISA</td>\n",
       "      <td>Débito</td>\n",
       "      <td>Puro</td>\n",
       "      <td>1017551</td>\n",
       "      <td>525736</td>\n",
       "    </tr>\n",
       "    <tr>\n",
       "      <th>4</th>\n",
       "      <td>Elo</td>\n",
       "      <td>Crédito</td>\n",
       "      <td>Puro</td>\n",
       "      <td>28306</td>\n",
       "      <td>11255</td>\n",
       "    </tr>\n",
       "  </tbody>\n",
       "</table>\n",
       "</div>"
      ],
      "text/plain": [
       "     Bandeira   Funcao Modalidade  qtd_emitidos  qtd_ativos\n",
       "0        VISA   Débito       Puro        739765      404801\n",
       "1  MasterCard  Crédito       Puro        983369      771386\n",
       "2  MasterCard  Crédito       Puro      13454781     5296965\n",
       "3        VISA   Débito       Puro       1017551      525736\n",
       "4         Elo  Crédito       Puro         28306       11255"
      ]
     },
     "execution_count": 34,
     "metadata": {},
     "output_type": "execute_result"
    }
   ],
   "source": [
    "df = pd.read_csv(\"../data/transacoes_cartoes_2023.csv\")\n",
    "\n",
    "df_tratado = df.rename(columns={\n",
    "    \"trimestre\": \"Trimestre\",\n",
    "    \"nomeBandeira\": \"Bandeira\",\n",
    "    \"nomeFuncao\": \"Funcao\",\n",
    "    \"modalidade\": \"Modalidade\",\n",
    "    \"qtdCartoesEmitidos\": \"qtd_emitidos\",\n",
    "    \"qtdCartoesAtivos\": \"qtd_ativos\"\n",
    "})\n",
    "\n",
    "df_tratado.to_csv(\"../outputs/cartoes_tratados.csv\", index=False, encoding=\"utf-8-sig\")\n",
    "\n",
    "df_tratado.head()"
   ]
  },
  {
   "cell_type": "markdown",
   "metadata": {},
   "source": [
    "#### Converte para numérico caso o dado venha como string "
   ]
  },
  {
   "cell_type": "code",
   "execution_count": 6,
   "metadata": {},
   "outputs": [],
   "source": [
    "dados_df[\"qtd_emitidos\"] = pd.to_numeric(dados_df[\"qtd_emitidos\"], errors=\"coerce\")\n",
    "dados_df[\"qtd_ativos\"] = pd.to_numeric(dados_df[\"qtd_ativos\"], errors=\"coerce\")\n"
   ]
  },
  {
   "cell_type": "markdown",
   "metadata": {},
   "source": [
    "#### Salvando dados como json já consolidados e tratados"
   ]
  },
  {
   "cell_type": "code",
   "execution_count": 38,
   "metadata": {},
   "outputs": [
    {
     "data": {
      "text/html": [
       "<div>\n",
       "<style scoped>\n",
       "    .dataframe tbody tr th:only-of-type {\n",
       "        vertical-align: middle;\n",
       "    }\n",
       "\n",
       "    .dataframe tbody tr th {\n",
       "        vertical-align: top;\n",
       "    }\n",
       "\n",
       "    .dataframe thead th {\n",
       "        text-align: right;\n",
       "    }\n",
       "</style>\n",
       "<table border=\"1\" class=\"dataframe\">\n",
       "  <thead>\n",
       "    <tr style=\"text-align: right;\">\n",
       "      <th></th>\n",
       "      <th>Bandeira</th>\n",
       "      <th>Funcao</th>\n",
       "      <th>Modalidade</th>\n",
       "      <th>qtd_emitidos</th>\n",
       "      <th>qtd_ativos</th>\n",
       "    </tr>\n",
       "  </thead>\n",
       "  <tbody>\n",
       "    <tr>\n",
       "      <th>0</th>\n",
       "      <td>VISA</td>\n",
       "      <td>Débito</td>\n",
       "      <td>Puro</td>\n",
       "      <td>739765</td>\n",
       "      <td>404801</td>\n",
       "    </tr>\n",
       "    <tr>\n",
       "      <th>1</th>\n",
       "      <td>MasterCard</td>\n",
       "      <td>Crédito</td>\n",
       "      <td>Puro</td>\n",
       "      <td>983369</td>\n",
       "      <td>771386</td>\n",
       "    </tr>\n",
       "    <tr>\n",
       "      <th>2</th>\n",
       "      <td>MasterCard</td>\n",
       "      <td>Crédito</td>\n",
       "      <td>Puro</td>\n",
       "      <td>13454781</td>\n",
       "      <td>5296965</td>\n",
       "    </tr>\n",
       "    <tr>\n",
       "      <th>3</th>\n",
       "      <td>VISA</td>\n",
       "      <td>Débito</td>\n",
       "      <td>Puro</td>\n",
       "      <td>1017551</td>\n",
       "      <td>525736</td>\n",
       "    </tr>\n",
       "    <tr>\n",
       "      <th>4</th>\n",
       "      <td>Elo</td>\n",
       "      <td>Crédito</td>\n",
       "      <td>Puro</td>\n",
       "      <td>28306</td>\n",
       "      <td>11255</td>\n",
       "    </tr>\n",
       "  </tbody>\n",
       "</table>\n",
       "</div>"
      ],
      "text/plain": [
       "     Bandeira   Funcao Modalidade  qtd_emitidos  qtd_ativos\n",
       "0        VISA   Débito       Puro        739765      404801\n",
       "1  MasterCard  Crédito       Puro        983369      771386\n",
       "2  MasterCard  Crédito       Puro      13454781     5296965\n",
       "3        VISA   Débito       Puro       1017551      525736\n",
       "4         Elo  Crédito       Puro         28306       11255"
      ]
     },
     "execution_count": 38,
     "metadata": {},
     "output_type": "execute_result"
    }
   ],
   "source": [
    "df_tratado.to_csv(\"../outputs/cartoes_tratados.csv\", index=False, encoding=\"utf-8-sig\")\n",
    "df_tratado.to_json(\"../outputs/cartoes_tratados.json\", orient=\"records\", force_ascii=False, indent=4)\n",
    "\n",
    "df_tratado.head()"
   ]
  },
  {
   "cell_type": "markdown",
   "metadata": {},
   "source": [
    "#### Conferindo os dados tratados"
   ]
  },
  {
   "cell_type": "code",
   "execution_count": 41,
   "metadata": {},
   "outputs": [
    {
     "name": "stdout",
     "output_type": "stream",
     "text": [
      "Colunas do dataset tratado:\n",
      "['Bandeira', 'Funcao', 'Modalidade', 'qtd_emitidos', 'qtd_ativos']\n"
     ]
    }
   ],
   "source": [
    "print(\"Colunas do dataset tratado:\")\n",
    "print(df_tratado.columns.tolist())\n"
   ]
  },
  {
   "cell_type": "code",
   "execution_count": 42,
   "metadata": {},
   "outputs": [
    {
     "data": {
      "text/html": [
       "<div>\n",
       "<style scoped>\n",
       "    .dataframe tbody tr th:only-of-type {\n",
       "        vertical-align: middle;\n",
       "    }\n",
       "\n",
       "    .dataframe tbody tr th {\n",
       "        vertical-align: top;\n",
       "    }\n",
       "\n",
       "    .dataframe thead th {\n",
       "        text-align: right;\n",
       "    }\n",
       "</style>\n",
       "<table border=\"1\" class=\"dataframe\">\n",
       "  <thead>\n",
       "    <tr style=\"text-align: right;\">\n",
       "      <th></th>\n",
       "      <th>Bandeira</th>\n",
       "      <th>Funcao</th>\n",
       "      <th>Modalidade</th>\n",
       "      <th>qtd_emitidos</th>\n",
       "      <th>qtd_ativos</th>\n",
       "    </tr>\n",
       "  </thead>\n",
       "  <tbody>\n",
       "    <tr>\n",
       "      <th>0</th>\n",
       "      <td>VISA</td>\n",
       "      <td>Débito</td>\n",
       "      <td>Puro</td>\n",
       "      <td>739765</td>\n",
       "      <td>404801</td>\n",
       "    </tr>\n",
       "    <tr>\n",
       "      <th>1</th>\n",
       "      <td>MasterCard</td>\n",
       "      <td>Crédito</td>\n",
       "      <td>Puro</td>\n",
       "      <td>983369</td>\n",
       "      <td>771386</td>\n",
       "    </tr>\n",
       "    <tr>\n",
       "      <th>2</th>\n",
       "      <td>MasterCard</td>\n",
       "      <td>Crédito</td>\n",
       "      <td>Puro</td>\n",
       "      <td>13454781</td>\n",
       "      <td>5296965</td>\n",
       "    </tr>\n",
       "    <tr>\n",
       "      <th>3</th>\n",
       "      <td>VISA</td>\n",
       "      <td>Débito</td>\n",
       "      <td>Puro</td>\n",
       "      <td>1017551</td>\n",
       "      <td>525736</td>\n",
       "    </tr>\n",
       "    <tr>\n",
       "      <th>4</th>\n",
       "      <td>Elo</td>\n",
       "      <td>Crédito</td>\n",
       "      <td>Puro</td>\n",
       "      <td>28306</td>\n",
       "      <td>11255</td>\n",
       "    </tr>\n",
       "  </tbody>\n",
       "</table>\n",
       "</div>"
      ],
      "text/plain": [
       "     Bandeira   Funcao Modalidade  qtd_emitidos  qtd_ativos\n",
       "0        VISA   Débito       Puro        739765      404801\n",
       "1  MasterCard  Crédito       Puro        983369      771386\n",
       "2  MasterCard  Crédito       Puro      13454781     5296965\n",
       "3        VISA   Débito       Puro       1017551      525736\n",
       "4         Elo  Crédito       Puro         28306       11255"
      ]
     },
     "execution_count": 42,
     "metadata": {},
     "output_type": "execute_result"
    }
   ],
   "source": [
    "df_tratado.head()"
   ]
  }
 ],
 "metadata": {
  "kernelspec": {
   "display_name": ".venv",
   "language": "python",
   "name": "python3"
  },
  "language_info": {
   "codemirror_mode": {
    "name": "ipython",
    "version": 3
   },
   "file_extension": ".py",
   "mimetype": "text/x-python",
   "name": "python",
   "nbconvert_exporter": "python",
   "pygments_lexer": "ipython3",
   "version": "3.13.4"
  }
 },
 "nbformat": 4,
 "nbformat_minor": 2
}
